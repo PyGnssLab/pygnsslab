{
 "cells": [
  {
   "cell_type": "code",
   "execution_count": 15,
   "metadata": {},
   "outputs": [
    {
     "name": "stdout",
     "output_type": "stream",
     "text": [
      "<class 'pygnsslab.io.sp3.reader.SP3Reader'>\n",
      "<class 'list'>\n",
      "                     0             1             2            3      4\n",
      "0  2023-01-01 00:00:00  26000.000000      0.000000     0.000000  100.0\n",
      "1  2023-01-01 01:00:00  22516.660498  13000.000000  4330.127019  100.1\n",
      "2  2023-01-01 02:00:00  13000.000000  22516.660498  4330.127019  100.2\n",
      "3  2023-01-01 03:00:00      0.000000  26000.000000     0.000000  100.3\n",
      "4  2023-01-01 04:00:00 -13000.000000  22516.660498 -4330.127019  100.4\n",
      "5  2023-01-01 05:00:00 -22516.660498  13000.000000 -4330.127019  100.5\n",
      "6  2023-01-01 06:00:00 -26000.000000      0.000000    -0.000000  100.6\n",
      "7  2023-01-01 07:00:00 -22516.660498 -13000.000000  4330.127019  100.7\n",
      "8  2023-01-01 08:00:00 -13000.000000 -22516.660498  4330.127019  100.8\n",
      "9  2023-01-01 09:00:00     -0.000000 -26000.000000     0.000000  100.9\n",
      "10 2023-01-01 10:00:00  13000.000000 -22516.660498 -4330.127019  101.0\n",
      "11 2023-01-01 11:00:00  22516.660498 -13000.000000 -4330.127019  101.1\n",
      "12 2023-01-01 12:00:00  26000.000000     -0.000000    -0.000000  101.2\n",
      "13 2023-01-01 13:00:00  22516.660498  13000.000000  4330.127019  101.3\n",
      "14 2023-01-01 14:00:00  13000.000000  22516.660498  4330.127019  101.4\n",
      "15 2023-01-01 15:00:00      0.000000  26000.000000     0.000000  101.5\n",
      "16 2023-01-01 16:00:00 -13000.000000  22516.660498 -4330.127019  101.6\n",
      "17 2023-01-01 17:00:00 -22516.660498  13000.000000 -4330.127019  101.7\n",
      "18 2023-01-01 18:00:00 -26000.000000      0.000000    -0.000000  101.8\n",
      "19 2023-01-01 19:00:00 -22516.660498 -13000.000000  4330.127019  101.9\n",
      "20 2023-01-01 20:00:00 -13000.000000 -22516.660498  4330.127019  102.0\n",
      "21 2023-01-01 21:00:00     -0.000000 -26000.000000     0.000000  102.1\n",
      "22 2023-01-01 22:00:00  13000.000000 -22516.660498 -4330.127019  102.2\n",
      "23 2023-01-01 23:00:00  22516.660498 -13000.000000 -4330.127019  102.3\n"
     ]
    }
   ],
   "source": [
    "from datetime import datetime, timedelta\n",
    "import os\n",
    "import sys\n",
    "import pandas as pd\n",
    "import matplotlib.pyplot as plt\n",
    "import numpy as np\n",
    "from pathlib import Path\n",
    "\n",
    "from pygnsslab.io.sp3.reader import SP3Reader\n",
    "from pygnsslab.io.sp3.writer import write_sp3_file\n",
    "from pygnsslab.io.sp3.metadata import SP3Header, SP3Epoch, SP3SatelliteRecord\n",
    "\n",
    "# file location\n",
    "# Define the base directory and file paths\n",
    "base_dir = Path.cwd().parent.parent\n",
    "file_location = base_dir / \"data\" / \"sp3\" / \"COD0MGXFIN_20220010000_01D_05M_ORB.SP3\"\n",
    "\n",
    "# read the Sp3 file\n",
    "reader = SP3Reader(file_location)\n",
    "\n",
    "# print type of reader\n",
    "print(type(reader))\n",
    "\n",
    "# print the including data in it\n",
    "print(type(reader.get_satellite_positions(\"G01\")))\n",
    "\n",
    "# convert list to pandas dataframe\n",
    "df = pd.DataFrame(reader.get_satellite_positions(\"G01\"))\n",
    "\n",
    "# print the dataframe\n",
    "print(df)\n",
    "\n",
    "\n",
    "\n"
   ]
  }
 ],
 "metadata": {
  "kernelspec": {
   "display_name": ".venv",
   "language": "python",
   "name": "python3"
  },
  "language_info": {
   "codemirror_mode": {
    "name": "ipython",
    "version": 3
   },
   "file_extension": ".py",
   "mimetype": "text/x-python",
   "name": "python",
   "nbconvert_exporter": "python",
   "pygments_lexer": "ipython3",
   "version": "3.12.0"
  }
 },
 "nbformat": 4,
 "nbformat_minor": 2
}
