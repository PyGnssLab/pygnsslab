{
 "cells": [
  {
   "cell_type": "code",
   "execution_count": 14,
   "metadata": {},
   "outputs": [
    {
     "name": "stdout",
     "output_type": "stream",
     "text": [
      "<class 'pygnsslab.io.sp3.reader.SP3Reader'>\n",
      "<class 'list'>\n"
     ]
    },
    {
     "ename": "NameError",
     "evalue": "name 'pd' is not defined",
     "output_type": "error",
     "traceback": [
      "\u001b[31m---------------------------------------------------------------------------\u001b[39m",
      "\u001b[31mNameError\u001b[39m                                 Traceback (most recent call last)",
      "\u001b[36mCell\u001b[39m\u001b[36m \u001b[39m\u001b[32mIn[14]\u001b[39m\u001b[32m, line 27\u001b[39m\n\u001b[32m     24\u001b[39m \u001b[38;5;28mprint\u001b[39m(\u001b[38;5;28mtype\u001b[39m(reader.get_satellite_positions(\u001b[33m\"\u001b[39m\u001b[33mG01\u001b[39m\u001b[33m\"\u001b[39m)))\n\u001b[32m     26\u001b[39m \u001b[38;5;66;03m# convert list to pandas dataframe\u001b[39;00m\n\u001b[32m---> \u001b[39m\u001b[32m27\u001b[39m df = \u001b[43mpd\u001b[49m.DataFrame(reader.get_satellite_positions(\u001b[33m\"\u001b[39m\u001b[33mG01\u001b[39m\u001b[33m\"\u001b[39m))\n\u001b[32m     29\u001b[39m \u001b[38;5;66;03m# print the dataframe\u001b[39;00m\n\u001b[32m     30\u001b[39m \u001b[38;5;28mprint\u001b[39m(df)\n",
      "\u001b[31mNameError\u001b[39m: name 'pd' is not defined"
     ]
    }
   ],
   "source": [
    "from datetime import datetime, timedelta\n",
    "import os\n",
    "import sys\n",
    "import pandas as pd\n",
    "import matplotlib.pyplot as plt\n",
    "import numpy as np\n",
    "from pathlib import Path\n",
    "\n",
    "from pygnsslab.io.sp3.reader import SP3Reader\n",
    "from pygnsslab.io.sp3.writer import write_sp3_file\n",
    "from pygnsslab.io.sp3.metadata import SP3Header, SP3Epoch, SP3SatelliteRecord\n",
    "\n",
    "# file location\n",
    "# Define the base directory and file paths\n",
    "base_dir = Path.cwd().parent.parent\n",
    "file_location = base_dir / \"data\" / \"sp3\" / \"COD0MGXFIN_20220010000_01D_05M_ORB.SP3\"\n",
    "\n",
    "# read the Sp3 file\n",
    "reader = SP3Reader(file_location)\n",
    "\n",
    "# print type of reader\n",
    "print(type(reader))\n",
    "\n",
    "# print the including data in it\n",
    "print(type(reader.get_satellite_positions(\"G01\")))\n",
    "\n",
    "# convert list to pandas dataframe\n",
    "df = pd.DataFrame(reader.get_satellite_positions(\"G01\"))\n",
    "\n",
    "# print the dataframe\n",
    "print(df)\n",
    "\n",
    "\n",
    "\n"
   ]
  }
 ],
 "metadata": {
  "kernelspec": {
   "display_name": ".venv",
   "language": "python",
   "name": "python3"
  },
  "language_info": {
   "codemirror_mode": {
    "name": "ipython",
    "version": 3
   },
   "file_extension": ".py",
   "mimetype": "text/x-python",
   "name": "python",
   "nbconvert_exporter": "python",
   "pygments_lexer": "ipython3",
   "version": "3.12.0"
  }
 },
 "nbformat": 4,
 "nbformat_minor": 2
}
